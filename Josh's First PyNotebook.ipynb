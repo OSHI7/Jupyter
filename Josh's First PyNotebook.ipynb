{
 "cells": [
  {
   "cell_type": "code",
   "execution_count": 21,
   "metadata": {},
   "outputs": [
    {
     "name": "stdout",
     "output_type": "stream",
     "text": [
      "got it going\n"
     ]
    }
   ],
   "source": [
    "print('got it going')\n",
    "import matplotlib.pyplot as plt\n",
    "import numpy as math"
   ]
  },
  {
   "cell_type": "code",
   "execution_count": 27,
   "metadata": {
    "scrolled": true
   },
   "outputs": [
    {
     "data": {
      "image/png": "[encoded data removed]",
      "text/plain": [
       "<matplotlib.figure.Figure at 0x842eef0>"
      ]
     },
     "metadata": {},
     "output_type": "display_data"
    }
   ],
   "source": [
    "x=range(0,9)\n",
    "y=math.power(x,2)\n",
    "plt.plot(y, '-mo')\n",
    "plt.show()"
   ]
  },
  {
   "cell_type": "markdown",
   "metadata": {},
   "source": [
    "# Let's try to import a library"
   ]
  },
  {
   "cell_type": "code",
   "execution_count": 4,
   "metadata": {},
   "outputs": [
    {
     "name": "stdout",
     "output_type": "stream",
     "text": [
      "\n",
      "This is an object-oriented plotting library.\n",
      "\n",
      "A procedural interface is provided by the companion pyplot module,\n",
      "which may be imported directly, e.g.::\n",
      "\n",
      "    import matplotlib.pyplot as plt\n",
      "\n",
      "or using ipython::\n",
      "\n",
      "    ipython\n",
      "\n",
      "at your terminal, followed by::\n",
      "\n",
      "    In [1]: %matplotlib\n",
      "    In [2]: import matplotlib.pyplot as plt\n",
      "\n",
      "at the ipython shell prompt.\n",
      "\n",
      "For the most part, direct use of the object-oriented library is\n",
      "encouraged when programming; pyplot is primarily for working\n",
      "interactively.  The\n",
      "exceptions are the pyplot commands :func:`~matplotlib.pyplot.figure`,\n",
      ":func:`~matplotlib.pyplot.subplot`,\n",
      ":func:`~matplotlib.pyplot.subplots`, and\n",
      ":func:`~pyplot.savefig`, which can greatly simplify scripting.\n",
      "\n",
      "Modules include:\n",
      "\n",
      "    :mod:`matplotlib.axes`\n",
      "        defines the :class:`~matplotlib.axes.Axes` class.  Most pylab\n",
      "        commands are wrappers for :class:`~matplotlib.axes.Axes`\n",
      "        methods.  The axes module is the highest level of OO access to\n",
      "        the library.\n",
      "\n",
      "    :mod:`matplotlib.figure`\n",
      "        defines the :class:`~matplotlib.figure.Figure` class.\n",
      "\n",
      "    :mod:`matplotlib.artist`\n",
      "        defines the :class:`~matplotlib.artist.Artist` base class for\n",
      "        all classes that draw things.\n",
      "\n",
      "    :mod:`matplotlib.lines`\n",
      "        defines the :class:`~matplotlib.lines.Line2D` class for\n",
      "        drawing lines and markers\n",
      "\n",
      "    :mod:`matplotlib.patches`\n",
      "        defines classes for drawing polygons\n",
      "\n",
      "    :mod:`matplotlib.text`\n",
      "        defines the :class:`~matplotlib.text.Text`,\n",
      "        :class:`~matplotlib.text.TextWithDash`, and\n",
      "        :class:`~matplotlib.text.Annotate` classes\n",
      "\n",
      "    :mod:`matplotlib.image`\n",
      "        defines the :class:`~matplotlib.image.AxesImage` and\n",
      "        :class:`~matplotlib.image.FigureImage` classes\n",
      "\n",
      "    :mod:`matplotlib.collections`\n",
      "        classes for efficient drawing of groups of lines or polygons\n",
      "\n",
      "    :mod:`matplotlib.colors`\n",
      "        classes for interpreting color specifications and for making\n",
      "        colormaps\n",
      "\n",
      "    :mod:`matplotlib.cm`\n",
      "        colormaps and the :class:`~matplotlib.image.ScalarMappable`\n",
      "        mixin class for providing color mapping functionality to other\n",
      "        classes\n",
      "\n",
      "    :mod:`matplotlib.ticker`\n",
      "        classes for calculating tick mark locations and for formatting\n",
      "        tick labels\n",
      "\n",
      "    :mod:`matplotlib.backends`\n",
      "        a subpackage with modules for various gui libraries and output\n",
      "        formats\n",
      "\n",
      "The base matplotlib namespace includes:\n",
      "\n",
      "    :data:`~matplotlib.rcParams`\n",
      "        a global dictionary of default configuration settings.  It is\n",
      "        initialized by code which may be overridden by a matplotlibrc\n",
      "        file.\n",
      "\n",
      "    :func:`~matplotlib.rc`\n",
      "        a function for setting groups of rcParams values\n",
      "\n",
      "    :func:`~matplotlib.use`\n",
      "        a function for setting the matplotlib backend.  If used, this\n",
      "        function must be called immediately after importing matplotlib\n",
      "        for the first time.  In particular, it must be called\n",
      "        **before** importing pylab (if pylab is imported).\n",
      "\n",
      "matplotlib was initially written by John D. Hunter (1968-2012) and is now\n",
      "developed and maintained by a host of others.\n",
      "\n",
      "Occasionally the internal documentation (python docstrings) will refer\n",
      "to MATLAB&reg;, a registered trademark of The MathWorks, Inc.\n",
      "\n",
      "\n"
     ]
    }
   ],
   "source": [
    "import matplotlib\n",
    "print(matplotlib.__doc__) #Get the doc string for help"
   ]
  },
  {
   "cell_type": "markdown",
   "metadata": {},
   "source": [
    "# try to print out a list. Note the use of starred args to pass all items in"
   ]
  },
  {
   "cell_type": "code",
   "execution_count": 8,
   "metadata": {},
   "outputs": [
    {
     "name": "stdout",
     "output_type": "stream",
     "text": [
      "10\n",
      "20\n",
      "30\n",
      "40\n",
      "50\n",
      "60\n",
      "70\n",
      "80\n",
      "90\n",
      "and here it iss with no sep: 10 20 30 40 50 60 70 80 90\n"
     ]
    }
   ],
   "source": [
    "import sys\n",
    "list1=range(10,100, 10)\n",
    "print(*list1, sep='\\n')\n",
    "print(\"and here it iss with no sep: \", end=''); print(*list1)"
   ]
  },
  {
   "cell_type": "code",
   "execution_count": 34,
   "metadata": {},
   "outputs": [
    {
     "name": "stdout",
     "output_type": "stream",
     "text": [
      "10 20 30 40 50 60 70 80 90\n"
     ]
    }
   ],
   "source": [
    "print(*list1)"
   ]
  },
  {
   "cell_type": "markdown",
   "metadata": {},
   "source": [
    "# Next: Zip\n",
    "It returns a zip object.  See: \n",
    "__[Zip Reference](https://www.dotnetperls.com/zip-python )__\n"
   ]
  },
  {
   "cell_type": "code",
   "execution_count": 65,
   "metadata": {},
   "outputs": [
    {
     "name": "stdout",
     "output_type": "stream",
     "text": [
      "(10, 100) (20, 110) (30, 120) (40, 130) (50, 140) (60, 150) (70, 160) (80, 170)\n",
      "10 ... 100\n",
      "20 ... 110\n",
      "30 ... 120\n",
      "40 ... 130\n",
      "50 ... 140\n",
      "60 ... 150\n",
      "70 ... 160\n",
      "80 ... 170\n"
     ]
    }
   ],
   "source": [
    "l1=range(10,90,10)\n",
    "l2=range(100, 190, 10)\n",
    "zL3=zip(l1,l2)\n",
    "l3=list(zip(l1,l2)) # zip ref: https://www.dotnetperls.com/zip-python \n",
    "print(*l3)\n",
    "\n",
    "for item1, item2 in zL3: #access in the list version\n",
    "    print(item1, \"...\", item2)"
   ]
  },
  {
   "cell_type": "code",
   "execution_count": 51,
   "metadata": {},
   "outputs": [
    {
     "data": {
      "text/plain": [
       "(20, 110)"
      ]
     },
     "execution_count": 51,
     "metadata": {},
     "output_type": "execute_result"
    }
   ],
   "source": [
    "l3[1] # I can index directly into the list-converted zip!, but not the zip directly"
   ]
  },
  {
   "cell_type": "code",
   "execution_count": 52,
   "metadata": {},
   "outputs": [
    {
     "name": "stdout",
     "output_type": "stream",
     "text": [
      "(10, 100) (20, 110) (30, 120) (40, 130) (50, 140) (60, 150) (70, 160) (80, 170)\n"
     ]
    }
   ],
   "source": [
    "print(*l3)"
   ]
  },
  {
   "cell_type": "code",
   "execution_count": 72,
   "metadata": {},
   "outputs": [
    {
     "name": "stdout",
     "output_type": "stream",
     "text": [
      "(10, 100) (20, 110) (30, 120) (40, 130) (50, 140) (60, 150) (70, 160) (80, 170)\n",
      "(10, 100) (20, 110) (30, 120) (40, 130) (50, 140) (60, 150) (70, 160) (80, 170)\n"
     ]
    }
   ],
   "source": [
    "zL3=zip(l1,l2)\n",
    "print(*zL3)\n",
    "zL3=zip(l1,l2)\n",
    "print(*zL3)"
   ]
  },
  {
   "cell_type": "code",
   "execution_count": 60,
   "metadata": {},
   "outputs": [
    {
     "name": "stdout",
     "output_type": "stream",
     "text": [
      "10 ... 100\n",
      "20 ... 110\n",
      "30 ... 120\n",
      "40 ... 130\n",
      "50 ... 140\n",
      "60 ... 150\n",
      "70 ... 160\n",
      "80 ... 170\n"
     ]
    }
   ],
   "source": [
    "for item1, item2 in l3: #access in the list version\n",
    "    print(item1, \"...\", item2)"
   ]
  },
  {
   "cell_type": "code",
   "execution_count": 84,
   "metadata": {},
   "outputs": [
    {
     "name": "stdout",
     "output_type": "stream",
     "text": [
      "10 ... 100\n",
      "20 ... 110\n",
      "30 ... 120\n",
      "40 ... 130\n",
      "50 ... 140\n",
      "60 ... 150\n",
      "70 ... 160\n",
      "80 ... 170\n"
     ]
    },
    {
     "ename": "TypeError",
     "evalue": "sum expected at least 1 arguments, got 0",
     "output_type": "error",
     "traceback": [
      "\u001b[1;31m---------------------------------------------------------------------------\u001b[0m",
      "\u001b[1;31mTypeError\u001b[0m                                 Traceback (most recent call last)",
      "\u001b[1;32m<ipython-input-84-8dc26086d814>\u001b[0m in \u001b[0;36m<module>\u001b[1;34m()\u001b[0m\n\u001b[0;32m      4\u001b[0m \u001b[1;33m\u001b[0m\u001b[0m\n\u001b[0;32m      5\u001b[0m \u001b[0mzL3\u001b[0m\u001b[1;33m\u001b[0m\u001b[0m\n\u001b[1;32m----> 6\u001b[1;33m \u001b[0msum\u001b[0m\u001b[1;33m(\u001b[0m\u001b[1;33m*\u001b[0m\u001b[0mzL3\u001b[0m\u001b[1;33m)\u001b[0m\u001b[1;33m\u001b[0m\u001b[0m\n\u001b[0m",
      "\u001b[1;31mTypeError\u001b[0m: sum expected at least 1 arguments, got 0"
     ]
    }
   ],
   "source": [
    "zL3=zip(l1,l2)\n",
    "for item1, item2 in zL3: #access in the list version\n",
    "    print(item1, \"...\", item2)\n",
    "    \n",
    "zL3    \n",
    "sum(*zL3)h"
   ]
  },
  {
   "cell_type": "code",
   "execution_count": 63,
   "metadata": {},
   "outputs": [
    {
     "ename": "SyntaxError",
     "evalue": "invalid syntax (<ipython-input-63-e8ab097c9cd7>, line 1)",
     "output_type": "error",
     "traceback": [
      "\u001b[1;36m  File \u001b[1;32m\"<ipython-input-63-e8ab097c9cd7>\"\u001b[1;36m, line \u001b[1;32m1\u001b[0m\n\u001b[1;33m    def(\"\")\u001b[0m\n\u001b[1;37m       ^\u001b[0m\n\u001b[1;31mSyntaxError\u001b[0m\u001b[1;31m:\u001b[0m invalid syntax\n"
     ]
    }
   ],
   "source": []
  },
  {
   "cell_type": "code",
   "execution_count": 86,
   "metadata": {},
   "outputs": [
    {
     "data": {
      "text/plain": [
       "19"
      ]
     },
     "execution_count": 86,
     "metadata": {},
     "output_type": "execute_result"
    }
   ],
   "source": [
    "l1\n",
    "sum(l1)\n",
    "sum([9,10])\n"
   ]
  },
  {
   "cell_type": "code",
   "execution_count": 99,
   "metadata": {},
   "outputs": [
    {
     "name": "stdout",
     "output_type": "stream",
     "text": [
      "ab\n",
      "3\n"
     ]
    }
   ],
   "source": [
    "def sum(a, b):\n",
    "    return a + b\n",
    "\n",
    "values = { 'a': 1, 'b': 2 }\n",
    "\n",
    "# print(**values)\n",
    "s = sum(*values)\n",
    "print(s)\n",
    "s = sum(**values)\n",
    "print(s)"
   ]
  }
 ],
 "metadata": {
  "kernelspec": {
   "display_name": "Python 3",
   "language": "python",
   "name": "python3"
  },
  "language_info": {
   "codemirror_mode": {
    "name": "ipython",
    "version": 3
   },
   "file_extension": ".py",
   "mimetype": "text/x-python",
   "name": "python",
   "nbconvert_exporter": "python",
   "pygments_lexer": "ipython3",
   "version": "3.6.5"
  }
 },
 "nbformat": 4,
 "nbformat_minor": 2
}
